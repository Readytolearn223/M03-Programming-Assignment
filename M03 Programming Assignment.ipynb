{
 "cells": [
  {
   "cell_type": "code",
   "execution_count": null,
   "metadata": {},
   "outputs": [],
   "source": [
    "#7.4 task \n",
    "things =[ \"mozzarella\", \"cinderella\", \"salmonella\"]\n",
    "print(things)\n"
   ]
  },
  {
   "cell_type": "code",
   "execution_count": null,
   "metadata": {},
   "outputs": [],
   "source": [
    "#7.5 task \n",
    "things =[ \"mozzarella\", \"cinderella\", \"salmonella\"]  \n",
    "Person = things.index('cinderella')\n",
    "things[Person] = things[Person].capitalize()\n",
    "print(things)\n"
   ]
  },
  {
   "cell_type": "code",
   "execution_count": null,
   "metadata": {},
   "outputs": [],
   "source": [
    "#7.6 task \n",
    "things =[ \"mozzarella\", \"cinderella\", \"salmonella\"]  \n",
    "Person = things.index('cinderella')\n",
    "things[Person] = things[Person].capitalize()\n",
    "Cheese=things.index(\"mozzarella\")\n",
    "things[Cheese]=things[Cheese].upper()\n",
    "print(things) \n"
   ]
  },
  {
   "cell_type": "code",
   "execution_count": null,
   "metadata": {},
   "outputs": [],
   "source": [
    "#7.7 task \n",
    "things =[ \"mozzarella\", \"cinderella\", \"salmonella\"]  \n",
    "Person = things.index('cinderella')\n",
    "things[Person] = things[Person].capitalize()\n",
    "Cheese=things.index(\"mozzarella\")\n",
    "things[Cheese]=things[Cheese].upper()\n",
    "del things[2]\n",
    "print(things)  \n"
   ]
  },
  {
   "cell_type": "code",
   "execution_count": null,
   "metadata": {},
   "outputs": [],
   "source": [
    "#9.1 task\n",
    "def good():\n",
    " return['Harry', 'Ron', 'Hermione']\n",
    "good()  \n"
   ]
  },
  {
   "cell_type": "code",
   "execution_count": null,
   "metadata": {},
   "outputs": [],
   "source": [
    "\n",
    "#9.2 task \n",
    "def get_odds():\n",
    "    for num in range(1, 10, 2):\n",
    "        yield num\n",
    "count = 0\n",
    "for num in get_odds():\n",
    "    count += 1\n",
    "    if count == 3:\n",
    "        print(\"The third odd number is:\", num)\n",
    "       \n"
   ]
  }
 ],
 "metadata": {
  "language_info": {
   "name": "python"
  }
 },
 "nbformat": 4,
 "nbformat_minor": 2
}
